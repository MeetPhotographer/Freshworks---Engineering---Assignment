{
 "cells": [
  {
   "cell_type": "code",
   "execution_count": 2,
   "metadata": {},
   "outputs": [],
   "source": [
    "import time\n",
    "from threading import *"
   ]
  },
  {
   "cell_type": "code",
   "execution_count": 13,
   "metadata": {},
   "outputs": [],
   "source": [
    "# We will create a empty dictionary 'dic' which will store our data\n",
    "dic={} "
   ]
  },
  {
   "cell_type": "code",
   "execution_count": 14,
   "metadata": {},
   "outputs": [
    {
     "name": "stdout",
     "output_type": "stream",
     "text": [
      "None\n",
      "error: Key already exists\n",
      "error: Key already exists\n",
      "error: Invalid key! key must contain only alphabets without any numbers or special characters\n"
     ]
    }
   ],
   "source": [
    "# Now we will make \"create\" function\n",
    "\"\"\" we will use 3 parameters for create function as follows: \n",
    "    \"create(key_name,value,timeout_value)\" timeout_value is optional, We can continue by passing two arguments also (i.e. without timeout_value parameter)\n",
    "\"\"\"\n",
    "\n",
    "def create(key,value,timeout=0):\n",
    "    if key in dic:\n",
    "        print(\"error: Key already exists\") # This is the error message for user\n",
    "    else:\n",
    "        if(key.isalpha()):\n",
    "            if len(dic)<(1024*1020*1024) and value<=(16*1024*1024): # file size must be less than 1GB and Jasonobject value less than 16KB \n",
    "                if timeout==0:\n",
    "                    l=[value,timeout]\n",
    "                else:\n",
    "                    l=[value,time.time()+timeout]\n",
    "                if len(key)<=32: # key_name must be capped at 32chars\n",
    "                    dic[key]=l\n",
    "            else:\n",
    "                print(\"error: Memory limit exceeded!\") # This is the error message for user\n",
    "        else:\n",
    "            print(\"error: Invalid key! key must contain only alphabets without any numbers or special characters\") # This is the error message for user\n",
    "\n",
    "#It will print \"None\" at the time of creating key object for the first time\n",
    "print(create(\"G\",45,70)) #Using create function with all 3 parameters.\n",
    "\n",
    "create(\"G\",45,6) #It will show \"error: Key already exists\"\n",
    "create(\"H\", 56) #Using create function without 3rd parameter.\n",
    "create(\"G\", 56) #It will show \"error: Key already exists\" \n",
    "create(\"d_4\", 56) #It will show \"error: Invalid key! key must contain only alphabets without any numbers or special characters\""
   ]
  },
  {
   "cell_type": "code",
   "execution_count": 15,
   "metadata": {},
   "outputs": [
    {
     "name": "stdout",
     "output_type": "stream",
     "text": [
      "error: given key does not exist in database. Please enter a valid key\n"
     ]
    }
   ],
   "source": [
    "# Now we will make \"read\" function \n",
    "# we will use only 1 parameter for read function as: \"read(key_name)\"\n",
    "            \n",
    "def read(key):\n",
    "    if key not in dic:\n",
    "        print(\"error: Key not found! Please enter valid key.\") # This is the error message for user\n",
    "    else:\n",
    "        b=dic[key]\n",
    "        if b[1]!=0:\n",
    "            if time.time()<b[1]: # comparing the present time with expiry time\n",
    "                stri_ng=str(key)+\":\"+str(b[0]) # to return the value in the format of JsonObject i.e.\"key_name:value\"\n",
    "                return stri_ng\n",
    "            else:\n",
    "                print(\"error: time-to-live of\",key,\"has expired\") # This is the error message for user\n",
    "        else:\n",
    "            stri_ng=str(key)+\":\"+str(b[0])\n",
    "            return stri_ng\n",
    "        \n",
    "read(\"G\") #It will show \"error: time-to-live of G has expired\" if time-to-live value has already been expired. \n",
    "read(45) #It will show \"error: given key does not exist in database. Please enter a valid key\""
   ]
  },
  {
   "cell_type": "code",
   "execution_count": 16,
   "metadata": {},
   "outputs": [
    {
     "name": "stdout",
     "output_type": "stream",
     "text": [
      "key is successfully deleted\n",
      "error: given key does not exist in database. Please enter a valid key\n"
     ]
    }
   ],
   "source": [
    "# Now we will make \"delete\" function\n",
    "# We will use 1 parameter as: \"delete(key_name)\"\n",
    "\n",
    "def delete(key):\n",
    "    if key not in dic:\n",
    "        print(\"error: given key does not exist in database. Please enter a valid key\") # This is the error message for user\n",
    "    else:\n",
    "        b=dic[key]\n",
    "        if b[1]!=0:\n",
    "            if time.time()<b[1]: #comparing the current time with expiry time\n",
    "                del dic[key]\n",
    "                print(\"key is successfully deleted\")\n",
    "            else:\n",
    "                print(\"error: time-to-live of\",key,\"has expired\") # This is the error message for user\n",
    "        else:\n",
    "            del dic[key]\n",
    "            print(\"key is successfully deleted\")\n",
    "            \n",
    "delete(\"G\") # It will show \"key is successfully deleted\"\n",
    "# otherwise it will show \"error: time-to-live of G has expired\" if time-to-live value has already been expired.\n",
    "delete(\"O\") # It will show \"error: given key does not exist in database. Please enter a valid key\""
   ]
  },
  {
   "cell_type": "markdown",
   "metadata": {},
   "source": [
    "#    INSTRUCTIONS:\n",
    "\n",
    "This code satisfies all the mentioned functional requirements for create, read, delete operations as:\n",
    "1. with key-value pair as string-capped at 32 chars.\n",
    "2. with value as JSON Object capped at 16KB.\n",
    "3. all possible error messages.\n",
    "4. with \"time-to-live\" properpty(optional) with all mentioned conditions.\n",
    "\n",
    "And non-functional requirements as follows:\n",
    "1. Satisfies file size of <= 1GB\n",
    "2. Only one client is allowed at a time\n",
    "3. It is a thread-safe i.e. it allows to access the datastore using multiple threads.\n",
    "4. Uses less memory.\n",
    "\n",
    "Requirements:\n",
    "1. Python should be of version 3.x or above.\n",
    "2. Otherwise use \"import thread\" for importing thread library for python2.0 version."
   ]
  }
 ],
 "metadata": {
  "kernelspec": {
   "display_name": "Python 3",
   "language": "python",
   "name": "python3"
  },
  "language_info": {
   "codemirror_mode": {
    "name": "ipython",
    "version": 3
   },
   "file_extension": ".py",
   "mimetype": "text/x-python",
   "name": "python",
   "nbconvert_exporter": "python",
   "pygments_lexer": "ipython3",
   "version": "3.6.5"
  }
 },
 "nbformat": 4,
 "nbformat_minor": 2
}
